{
 "cells": [
  {
   "cell_type": "markdown",
   "metadata": {},
   "source": [
    "## Blockchain Mining: source online"
   ]
  },
  {
   "cell_type": "markdown",
   "metadata": {},
   "source": [
    "### Theory behind blockchain"
   ]
  },
  {
   "cell_type": "markdown",
   "metadata": {},
   "source": [
    "### A bitcoin is a ledger\n",
    "### A ledger is a set of transactions. The transactions are stored in blocks because they are not possible to store as a continuos stream in memory\n",
    "### The blocks are linked together. \n",
    "### Bitcoin protocol has security mechanism, which leads to cryptography.\n",
    "### In cryptography, there is a function called sha256, which gives an input string to generate a hash (for example: SHA256(x) = 69f0fb8cb)\n",
    "### The hash can be 256bit long."
   ]
  },
  {
   "cell_type": "code",
   "execution_count": 1,
   "metadata": {},
   "outputs": [],
   "source": [
    "# Produce a SHA\n",
    "\n",
    "# sha256 is a cryptographic hash function\n",
    "from hashlib import sha256\n",
    "text = 'XYZ'\n",
    "print(sha256(text.encode('ascii')).hexdigest())"
   ]
  },
  {
   "cell_type": "code",
   "execution_count": 2,
   "metadata": {},
   "outputs": [],
   "source": [
    "# In a bitcoin or a blockchain, the actual block is a combination of transactions, block number, previous hash and bitcoin protocol.\n",
    "# The goal of solving a block is to produce a hash that satisfies the requirements.\n",
    "# For example, in order to obtain the first 4 zeros, the block will go through a number of Nonce (or loop), and it could take a trillion times.\n",
    "# Overall, the goal is to write codes and loops that can obtain the solution.\n",
    "# Bitcoin mining is the process of guessing a nonce that generates hash with first X number of zeros.\n",
    "\n",
    "# In 2009, 50 btc per block\n",
    "# In 2012, 25 btc per block\n",
    "# In 2016, 12.5 btc per block\n",
    "# In 2020, 6.25 btc per block"
   ]
  },
  {
   "cell_type": "code",
   "execution_count": 3,
   "metadata": {},
   "outputs": [
    {
     "name": "stdout",
     "output_type": "stream",
     "text": [
      "Start Mining!\n",
      "A blockchain has been mined successfully with a nonce value:1305\n",
      "end mining. Mining took 0.0030150413513183594 seconds\n",
      "0009405a8a8dfb008194b6d939617cb4cc3b8fa31056fcb58280a9eda219b63f\n"
     ]
    }
   ],
   "source": [
    "def SHA256(text):\n",
    "    return sha256(text.encode('ascii')).hexdigest()\n",
    "\n",
    "MAX_NONCE = 1000000000000\n",
    "def mine(block_number, transactions, previous_hash, prefix_zeros):\n",
    "    prefix_str = '0'*prefix_zeros\n",
    "    for nonce in range(MAX_NONCE):\n",
    "        text = str(block_number) + transactions + previous_hash + str(nonce)\n",
    "        new_hash = SHA256(text)\n",
    "        if new_hash.startswith(prefix_str):\n",
    "            print(f\"A blockchain has been mined successfully with a nonce value:{nonce}\")\n",
    "            return new_hash\n",
    "    \n",
    "    raise BaseException(f\"Unable to find the solution after trying {MAX_NONCE} times\")\n",
    "\n",
    "if __name__=='__main__':\n",
    "    transactions='''\n",
    "    sj->sf->50,\n",
    "    sj->sc->45\n",
    "    '''\n",
    "    # right now the difficulty to mine a bitcoin is 20.    \n",
    "    difficulty = 3\n",
    "    \n",
    "    import time\n",
    "    start = time.time()\n",
    "    \n",
    "    print(\"Start Mining!\")\n",
    "    \n",
    "    # go to https://www.blockchain.com/btc/blocks to obtain the hash\n",
    "    new_hash = mine(5, transactions, 'ade099751d2ea9f3393f0f32d20c6b980dd5d3b0989dea599b966ae0d3cd5a1e', difficulty)\n",
    "    total_time = str((time.time() - start))\n",
    "    \n",
    "    print(\"end mining. Mining took {} seconds\".format(total_time))\n",
    "    print(new_hash)"
   ]
  },
  {
   "cell_type": "code",
   "execution_count": null,
   "metadata": {},
   "outputs": [],
   "source": []
  }
 ],
 "metadata": {
  "kernelspec": {
   "display_name": "Python 3",
   "language": "python",
   "name": "python3"
  },
  "language_info": {
   "codemirror_mode": {
    "name": "ipython",
    "version": 3
   },
   "file_extension": ".py",
   "mimetype": "text/x-python",
   "name": "python",
   "nbconvert_exporter": "python",
   "pygments_lexer": "ipython3",
   "version": "3.7.8"
  }
 },
 "nbformat": 4,
 "nbformat_minor": 2
}
